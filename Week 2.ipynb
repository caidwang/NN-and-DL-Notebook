{
 "cells": [
  {
   "cell_type": "markdown",
   "metadata": {},
   "source": [
    "# Week Two\n",
    "---\n",
    "- logistic回归\n",
    "- 使用numpy对计算向量化"
   ]
  },
  {
   "cell_type": "markdown",
   "metadata": {},
   "source": [
    "## 二分类器-logistics回归\n",
    "\n",
    "分类器的预测值是$P(\\hat{Y}=1|x)$, 使得概率尽可能与实际标签相符.logistics回归使用logit模型将$W^TX+b$映射到0-1, 以下表达式也称为sigmoid函数\n",
    "$$\\sigma(z) = \\frac{1}{1+e^{-z}}$$\n",
    "> sigmoid函数的求导特点:$\\sigma\\prime(z) = \\sigma(z)(1-\\sigma(z))$\n",
    "\n",
    "**loss函数**: 评价预测值与真实值之间的差距\n",
    "$$L(\\hat{y}, y)=-(ylog\\hat{y}+(1-y)log(1-\\hat{y}))$$\n",
    "> 为什么要使用交叉熵而不使用方差作为loss函数?\n",
    "传统回归方法可以采用MSE方法, 当采用sigmoid函数做分类时, MSE方法对W和b的求导与simoid函数的导数有关, 在两侧sigmoid导数小, 下降慢, 但是采用CrossEtropy时, loss函数对W和b的导数只与$\\hat{y}-y$相关, 具有更好的下降性质, 其他回归采用MSE方法可行的原因是预测函数性质不同, 不具有sigmoid的性质. 详见[交叉熵](https://zhuanlan.zhihu.com/p/61944055). Andrew也给出另一方面的解释, MSE是非凸函数,其在使用梯度下降算法时容易陷入局部最优解, 因此这里要采用凸函数.\n",
    "\n",
    "**Cost函数**:以当前的W和b参数进行预测产生的成本,即平均loss\n",
    "$$J(W, b) = \\frac{1}{m} \\sum_{i} L(\\hat{y_i}, y_i)$$\n",
    "\n",
    "**推导计算与反向传播**\n",
    "\n",
    "正向计算是从输入到输出的计算过程, 反向传播使用链式法则, 对W和b的每一维求J的偏导\n",
    "![](src/pictures/c1_w1_1.png)\n",
    "\n",
    "在LR中,参数的反向传播推导略,结果为\n",
    "$$dw = \\frac{1}{m}\\sum_{i}^{m}(A_i - Y_i)X_i \\\\ db = \\frac{1}{m}\\sum_{i}^{m}A_i - Y_i$$\n",
    "\n",
    "## numpy中的广播机制\n",
    "\n",
    "- 如果两个数组的后缘维度的轴长度相符或其中一方的轴长度为1，则认为它们是广播兼容的。广播会在缺失维度和轴长度为1的维度上进行。\n",
    "- 后缘维度的轴长度：A.shape[-1] 即矩阵维度元组中的最后一个位置的值\n",
    "- 虽然在Python有广播的机制，但是在Python程序中，为了保证矩阵运算的正确性，可以使用reshape()函数来对矩阵设定所需要进行计算的维度，这是个好的习惯；\n",
    "\n",
    "    如果用下列语句来定义一个向量，则这条语句生成的a的维度为（5，），既不是行向量也不是列向量，称为秩（rank）为1的array，如果对a进行转置，则会得到a本身，这在计算中会给我们带来一些问题。\n",
    "    ```python\n",
    "    a = np.random.randn(5)\n",
    "    ```\n",
    "    如果需要定义（5，1）或者（1，5）向量，要使用下面标准的语句：\n",
    "    ```python\n",
    "    a = np.random.randn(5,1)\n",
    "    b = np.random.randn(1,5)\n",
    "```\n",
    "- 可以使用assert语句对向量或数组的维度进行判断。assert会对内嵌语句进行判断，即判断a的维度是不是（5，1），如果不是，则程序在此处停止。使用assert语句也是一种很好的习惯，能够帮助我们及时检查、发现语句是否正确。\n",
    "\n",
    "- 可以使用reshape函数对数组设定所需的维度\n",
    "```python\n",
    "a.reshape((5,1))\n",
    "```"
   ]
  },
  {
   "cell_type": "code",
   "execution_count": 28,
   "metadata": {},
   "outputs": [],
   "source": [
    "import numpy as np\n",
    "from sklearn.datasets import load_digits\n",
    "from sklearn.model_selection import train_test_split\n",
    "import matplotlib.pyplot as plt\n",
    "X, y = load_digits(2, True)\n",
    "X_train,X_test,y_train, y_test = train_test_split(X, y, test_size = 0.3)\n",
    "y_train = y_train.reshape(y_train.shape[0], 1)\n",
    "y_test = y_test.reshape(y_test.shape[0], 1)"
   ]
  },
  {
   "cell_type": "code",
   "execution_count": 35,
   "metadata": {},
   "outputs": [],
   "source": [
    "def sigmoid(x):\n",
    "    '''\n",
    "    返回X的sigmoid函数值\n",
    "    x -- scale or numpy Array\n",
    "    '''\n",
    "    return 1./(1 + np.exp(-x))\n",
    "def normalize(x):\n",
    "    '''\n",
    "    将x标准化至0-1\n",
    "    '''\n",
    "    x_norm = np.linalg.norm(x, axis = 1, keepdims=True) # 计算array的行norm值\n",
    "    return x / x_norm\n",
    "\n",
    "def propagate(w, b, x, y):\n",
    "    '''\n",
    "    正反向传播的计算,返回正向的cost和反向的梯度\n",
    "    w--weights,(n, 1)\n",
    "    b--bias, 1\n",
    "    X--features,(m, n)\n",
    "    y--labels,(m, 1)\n",
    "    m-number of samples\n",
    "    n-dim of features\n",
    "    Return:\n",
    "    grads--gradients, dict\n",
    "    cost--array, ()\n",
    "    '''\n",
    "    m = x.shape[0]\n",
    "    z = x.dot(w) + b # (m, 1)\n",
    "    a = sigmoid(z)\n",
    "    dz = a - y\n",
    "    dw = (1./m) * x.T.dot(dz)\n",
    "    db = (1./m) * np.sum(dz)\n",
    "    cost = - (1./m) * (y.T.dot(np.log(a)) + (1-y).T.dot(np.log(1-a)))\n",
    "    cost = np.squeeze(cost) # 降维(1,1)->() \n",
    "    grads = {'dw':dw,\n",
    "           'db':db}\n",
    "    return grads, cost\n",
    "\n",
    "def initialize_with_zero(dim):\n",
    "    '''\n",
    "    用0初始化权重和偏置\n",
    "    dim-number of features\n",
    "    Return: parameters of dim and bias\n",
    "    '''\n",
    "    w = np.zeros((dim, 1))\n",
    "    b = 0\n",
    "    return w, b\n",
    "\n",
    "def optimize(w, b, X, Y, num_of_iterations, learning_rate, print_costs = False):\n",
    "    costs = []\n",
    "    for i in range(num_of_iterations):\n",
    "        grads, cost = propagate(w, b, X, Y)\n",
    "        dw = grads['dw']\n",
    "        db = grads['db']\n",
    "        w = w - learning_rate * dw\n",
    "        b = b - learning_rate * db\n",
    "        \n",
    "        if print_costs and i%100 == 0:\n",
    "            print(\"cost after iteration:%d is %f\" % (i, cost))\n",
    "        costs.append(cost)\n",
    "    params = {\"W\":w, \"b\":b}\n",
    "    grads = {\"dw\":dw, \"db\":db}\n",
    "    return params, grads, costs\n",
    "\n",
    "def predict(X, params):\n",
    "    W = params['W']\n",
    "    b = params['b']\n",
    "    z = sigmoid(np.dot(X, W) + b)\n",
    "    y_p = [1 if i > 0.5 else 0 for i in z]\n",
    "    y_p = np.array(y_p).reshape(z.shape)\n",
    "    return y_p"
   ]
  },
  {
   "cell_type": "code",
   "execution_count": 41,
   "metadata": {},
   "outputs": [
    {
     "name": "stdout",
     "output_type": "stream",
     "text": [
      "cost after iteration:0 is 0.693147\n",
      "cost after iteration:100 is 0.005252\n",
      "cost after iteration:200 is 0.002916\n",
      "cost after iteration:300 is 0.002043\n",
      "cost after iteration:400 is 0.001580\n",
      "cost after iteration:500 is 0.001292\n",
      "cost after iteration:600 is 0.001094\n",
      "cost after iteration:700 is 0.000950\n",
      "cost after iteration:800 is 0.000840\n",
      "cost after iteration:900 is 0.000753\n"
     ]
    }
   ],
   "source": [
    "W, b = initialize_with_zero(X_train.shape[1])\n",
    "params, grads, costs = optimize(W, b, X_train, y_train, 1000, 0.01, True)"
   ]
  },
  {
   "cell_type": "code",
   "execution_count": 42,
   "metadata": {},
   "outputs": [
    {
     "data": {
      "text/plain": [
       "[<matplotlib.lines.Line2D at 0x7f4519edcc50>]"
      ]
     },
     "execution_count": 42,
     "metadata": {},
     "output_type": "execute_result"
    },
    {
     "data": {
      "image/png": "[encoded data removed]",
      "text/plain": [
       "<Figure size 432x288 with 1 Axes>"
      ]
     },
     "metadata": {},
     "output_type": "display_data"
    }
   ],
   "source": [
    "plt.plot(range(len(costs)), costs)"
   ]
  },
  {
   "cell_type": "code",
   "execution_count": 43,
   "metadata": {},
   "outputs": [],
   "source": [
    "y_p = predict(X_test, params)"
   ]
  },
  {
   "cell_type": "code",
   "execution_count": 44,
   "metadata": {},
   "outputs": [
    {
     "data": {
      "text/plain": [
       "0"
      ]
     },
     "execution_count": 44,
     "metadata": {},
     "output_type": "execute_result"
    }
   ],
   "source": [
    "np.sum(np.abs(y_test - y_p))"
   ]
  }
 ],
 "metadata": {
  "kernelspec": {
   "display_name": "Python 3",
   "language": "python",
   "name": "python3"
  },
  "language_info": {
   "codemirror_mode": {
    "name": "ipython",
    "version": 3
   },
   "file_extension": ".py",
   "mimetype": "text/x-python",
   "name": "python",
   "nbconvert_exporter": "python",
   "pygments_lexer": "ipython3",
   "version": "3.7.3"
  }
 },
 "nbformat": 4,
 "nbformat_minor": 2
}
